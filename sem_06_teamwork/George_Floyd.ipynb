{
 "cells": [
  {
   "cell_type": "markdown",
   "id": "4202ad45-4d70-4484-ae31-802f82c10ca6",
   "metadata": {},
   "source": [
    "# Алгоритм Флойда\n"
   ]
  },
  {
   "cell_type": "markdown",
   "id": "d4940cb6-b45c-433b-a391-c01f39d3c546",
   "metadata": {},
   "source": [
    "### задаем граф и веса\n"
   ]
  },
  {
   "cell_type": "code",
   "execution_count": 3,
   "id": "726f8fdb-04b3-44ec-8691-965fd917c8b1",
   "metadata": {},
   "outputs": [],
   "source": [
    "edge_list = [\n",
    "    [0, 1],\n",
    "    [1, 2], [1, 3],\n",
    "    [2, 0],\n",
    "    [3, 0], [3, 2]\n",
    "]\n",
    "BIG_NUM = float('inf')\n",
    "vert_num = 4\n",
    "weight_list = [5, 5, 3, -3, 2, -5]\n",
    "weight_list = [float(x) for x in weight_list]\n"
   ]
  },
  {
   "cell_type": "markdown",
   "id": "9b1f4bdc-473d-421a-9b02-02de1fe0f667",
   "metadata": {},
   "source": [
    "### находим матрицу смежности\n"
   ]
  },
  {
   "cell_type": "code",
   "execution_count": 4,
   "id": "84780668-ae76-490c-8cd5-f0f48b32b3f7",
   "metadata": {},
   "outputs": [],
   "source": [
    "def construct_adj_list(edge_list, vert_num):\n",
    "    adj_list = [[] for _ in range(vert_num)]\n",
    "    for edge in edge_list:\n",
    "        src = edge[0]\n",
    "        dest = edge[1]\n",
    "        adj_list[src].append(dest)\n",
    "    return adj_list\n",
    "\n",
    "\n",
    "adj_list = construct_adj_list(edge_list, vert_num)\n",
    "\n",
    "\n",
    "def construct_adj_matrix(edge_list, weight_list, vert_num):\n",
    "    adj_matrix = [[BIG_NUM for _ in range(vert_num)] for _ in range(vert_num)]\n",
    "\n",
    "    for edge, weight in zip(edge_list, weight_list):\n",
    "        adj_matrix[edge[0]][edge[1]] = weight\n",
    "    return adj_matrix\n",
    "\n",
    "\n",
    "adj_matrix = construct_adj_matrix(edge_list, weight_list, vert_num)"
   ]
  },
  {
   "cell_type": "markdown",
   "id": "57753df9-c378-468e-9589-18c48e943a33",
   "metadata": {},
   "source": [
    "### модифицируем матрицу смежности"
   ]
  },
  {
   "cell_type": "code",
   "execution_count": 23,
   "id": "74e4354d-7d16-474e-846e-b42d4df99fed",
   "metadata": {},
   "outputs": [],
   "source": [
    "def modif_adj_matrix(adj_matrix, weight_list, vert_num):\n",
    "    matrix = construct_adj_matrix(edge_list, weight_list, vert_num)\n",
    "    i = 0\n",
    "    j = 0\n",
    "    while i!= vert_num:\n",
    "        matrix[i][j] = 0\n",
    "        i += 1\n",
    "        j += 1\n",
    "    return matrix"
   ]
  },
  {
   "cell_type": "markdown",
   "id": "0985fca1-52b4-4682-8813-3175b099b226",
   "metadata": {},
   "source": [
    "### алгос \n"
   ]
  },
  {
   "cell_type": "code",
   "execution_count": 26,
   "id": "62b2a036-90b1-4539-8c63-9b46bb0644cd",
   "metadata": {},
   "outputs": [],
   "source": [
    "def george_floyd(adj_matrix, vert_num):\n",
    "    dist = [row[:] for row in adj_matrix] # тут мы делаем копию матрицы смежности adj_matrix, соедржит кратчайшие расстояния\n",
    "\n",
    "    for k in range(vert_num): #этот внешний цикл пробегает по всем вершинам в графе,\n",
    "                                #которые могут служить промежуточными вершинами в поиске кратчайшего пути между всеми парами вершин.\n",
    "        \n",
    "        for i in range(vert_num): #этот вложенный цикл перебирает все вершины графа в качестве начальной вершины пути.\n",
    "\n",
    "            for j in range(vert_num): #этот еще один вложенный цикл перебирает все вершины графа в качестве конечной вершины пути.\n",
    "                                        \n",
    "                if dist[i][k] + dist[k][j] < dist[i][j]:# мы проверяем, сократится ли расстояние от вершины i до вершины j, если мы использовали промежуточную вершину k. \n",
    "                                                        # если да, то мы обновляем значение dist[i][j], чтобы отразить это более короткое расстояние.\n",
    "\n",
    "                    dist[i][j] = dist[i][k] + dist[k][j]\n",
    "\n",
    "    return dist"
   ]
  },
  {
   "cell_type": "code",
   "execution_count": 36,
   "id": "d65ce25d-0407-40d4-bbd3-66cb78d34b6d",
   "metadata": {},
   "outputs": [
    {
     "name": "stdout",
     "output_type": "stream",
     "text": [
      "0.0 5.0 3.0 8.0 |\n",
      "-5.0 0.0 -2.0 3.0 |\n",
      "-3.0 2.0 0.0 5.0 |\n",
      "-8.0 -3.0 -5.0 0.0 |\n"
     ]
    }
   ],
   "source": [
    "shortest_paths = george_floyd(adj_matrix, vert_num)\n",
    "\n",
    "for i in range(vert_num):\n",
    "    for j in range(vert_num):\n",
    "        if shortest_paths[i][j] == BIG_NUM:\n",
    "            print(\"INF\", end=\" \")\n",
    "        else:\n",
    "            print(shortest_paths[i][j], end=\" \")\n",
    "    print('|')"
   ]
  },
  {
   "cell_type": "code",
   "execution_count": null,
   "id": "d49f28e4-32da-41c7-b3c2-d7f16a201520",
   "metadata": {},
   "outputs": [],
   "source": []
  }
 ],
 "metadata": {
  "kernelspec": {
   "display_name": "Python 3 (ipykernel)",
   "language": "python",
   "name": "python3"
  },
  "language_info": {
   "codemirror_mode": {
    "name": "ipython",
    "version": 3
   },
   "file_extension": ".py",
   "mimetype": "text/x-python",
   "name": "python",
   "nbconvert_exporter": "python",
   "pygments_lexer": "ipython3",
   "version": "3.11.5"
  }
 },
 "nbformat": 4,
 "nbformat_minor": 5
}
