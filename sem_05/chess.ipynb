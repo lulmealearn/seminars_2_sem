{
 "cells": [
  {
   "cell_type": "code",
   "execution_count": 56,
   "id": "290c1094-b29a-4224-ba29-c65d5b26e864",
   "metadata": {},
   "outputs": [
    {
     "name": "stdin",
     "output_type": "stream",
     "text": [
      " 8 8\n",
      " 1 1 \n",
      " 8 8\n"
     ]
    }
   ],
   "source": [
    "BIG_NUM = 10 ** 6\n",
    "\n",
    "steps = [\n",
    "    [-2, 1], [-1, 2], [1, 2], [2, 1],\n",
    "    [2, -1], [1, -2], [-1, -2], [-2, -1]\n",
    "]\n",
    "\n",
    "cell_num = list(map(int, input().split()))\n",
    "i, j = map(int, input().split())\n",
    "x, y = map(int, input().split())\n",
    "\n",
    "adj_list = construct_adj_list(cell_num)\n",
    "adj_matrix = construct_adj_matrix(cell_num)\n",
    "\n",
    "start = (i - 1) * cell_num[1] + (j - 1)\n",
    "end = (x - 1) * cell_num[1] + (y - 1)"
   ]
  },
  {
   "cell_type": "code",
   "execution_count": 57,
   "id": "d83fb58d-d5ef-4a07-a633-0b843dfa1619",
   "metadata": {},
   "outputs": [],
   "source": [
    "import heapq\n",
    "\n",
    "def dijkstra(adj_list, adj_matrix, src, dest):\n",
    "    vert_num = len(adj_list)\n",
    "    dist = [BIG_NUM for _ in range(vert_num)]\n",
    "    used = [False for _ in range(vert_num)]\n",
    "\n",
    "    dist[src] = 0\n",
    "    pq = [(0, src)]  
    "\n",
    "    while pq:\n",
    "        d, u = heapq.heappop(pq)\n",
    "        if used[u]:\n",
    "            continue\n",
    "        used[u] = True\n",
    "\n",
    "        for v in adj_list[u]:\n",
    "            weight = adj_matrix[u][v]\n",
    "            if dist[v] > dist[u] + weight:\n",
    "                dist[v] = dist[u] + weight\n",
    "                heapq.heappush(pq, (dist[v], v))\n",
    "\n",
    "    return dist[dest]\n",
    "\n",
    "def construct_adj_list(cell_num):\n",
    "    adj_list = [[] for _ in range(cell_num[0] * cell_num[1])]\n",
    "    for i in range(cell_num[0]):\n",
    "        for j in range(cell_num[1]):\n",
    "            for step in steps:\n",
    "                ni, nj = i + step[0], j + step[1]\n",
    "                if 0 <= ni < cell_num[0] and 0 <= nj < cell_num[1]:\n",
    "                    adj_list[i * cell_num[1] + j].append(ni * cell_num[1] + nj)\n",
    "    return adj_list\n",
    "\n",
    "def construct_adj_matrix(cell_num):\n",
    "    adj_matrix = [[1 if j in adj_list[i] else BIG_NUM for j in range(cell_num[0] * cell_num[1])] for i in range(cell_num[0] * cell_num[1])]\n",
    "    return adj_matrix\n"
   ]
  },
  {
   "cell_type": "code",
   "execution_count": 58,
   "id": "b24fcbd1-8775-4409-8b2c-8753cfc75a66",
   "metadata": {},
   "outputs": [
    {
     "name": "stdout",
     "output_type": "stream",
     "text": [
      "6\n"
     ]
    }
   ],
   "source": [
    "min_moves = dijkstra(adj_list, adj_matrix, start, end)\n",
    "print(min_moves)"
   ]
  },
  {
   "cell_type": "code",
   "execution_count": null,
   "id": "0ebf8f5d-d373-4fce-b365-f14bc19d2684",
   "metadata": {},
   "outputs": [],
   "source": []
  }
 ],
 "metadata": {
  "kernelspec": {
   "display_name": "Python 3 (ipykernel)",
   "language": "python",
   "name": "python3"
  },
  "language_info": {
   "codemirror_mode": {
    "name": "ipython",
    "version": 3
   },
   "file_extension": ".py",
   "mimetype": "text/x-python",
   "name": "python",
   "nbconvert_exporter": "python",
   "pygments_lexer": "ipython3",
   "version": "3.11.5"
  }
 },
 "nbformat": 4,
 "nbformat_minor": 5
}
