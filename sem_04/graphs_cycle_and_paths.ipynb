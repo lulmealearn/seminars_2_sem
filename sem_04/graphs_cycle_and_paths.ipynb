{
 "cells": [
  {
   "cell_type": "code",
   "execution_count": 4,
   "id": "79d0b15b-7677-4c0f-b99d-5841397fbe95",
   "metadata": {},
   "outputs": [],
   "source": [
    "edge_list = [\n",
    "    [0, 1], [0, 3],\n",
    "    [1, 3], \n",
    "    [2, 3], \n",
    "    [4, 0], [4, 3],\n",
    "    [5, 0]\n",
    "]\n",
    "vert_num = 6\n",
    "\n",
    "adj_list = [[] for _ in range(vert_num)] \n",
    "for edge in edge_list:\n",
    "    u = edge[0]\n",
    "    v = edge[1]\n",
    "    adj_list[u].append(v)"
   ]
  },
  {
   "cell_type": "markdown",
   "id": "b2f03490-db3b-40be-97fc-c244ddff2085",
   "metadata": {},
   "source": [
    "## Код для поиска цикла в графе"
   ]
  },
  {
   "cell_type": "code",
   "execution_count": 5,
   "id": "e03a095f-bda4-43fa-9bb3-1f3dfb697528",
   "metadata": {},
   "outputs": [
    {
     "name": "stdout",
     "output_type": "stream",
     "text": [
      "Cycle found: 0->2->4->5->0\n"
     ]
    }
   ],
   "source": [
    "\n",
    "g = adj_list\n",
    "colors = [\"w\" for _ in range(vert_num)]\n",
    "cycle = []\n",
    "\n",
    "def dfs(v, start, visited=[]):\n",
    "    global cycle\n",
    "    visited.append(v)\n",
    "    colors[v] = \"g\"\n",
    "    \n",
    "    for u in g[v]:\n",
    "        if u in visited:\n",
    "            cycle = visited[visited.index(u):] + [u]\n",
    "            return\n",
    "        elif colors[u] == \"w\":\n",
    "            dfs(u, start, visited.copy())\n",
    "\n",
    "    colors[v] = \"b\"\n",
    "\n",
    "def find_cycle():\n",
    "    for v in range(vert_num):\n",
    "        if colors[v] == \"w\":\n",
    "            dfs(v, v)\n",
    "\n",
    "find_cycle()\n",
    "if cycle:\n",
    "    cycle_str = '->'.join(map(str, cycle))\n",
    "    print(\"Cycle found:\", cycle_str)\n",
    "else:\n",
    "    print(\"No cycle found.\")"
   ]
  },
  {
   "cell_type": "markdown",
   "id": "df1e51db-411c-43ca-9249-2cdd1df75583",
   "metadata": {},
   "source": [
    "## Дальше код для поиска путей\n"
   ]
  },
  {
   "cell_type": "code",
   "execution_count": 6,
   "id": "26e21270-71e1-4473-961c-519a221f32fa",
   "metadata": {},
   "outputs": [
    {
     "name": "stdout",
     "output_type": "stream",
     "text": [
      "[5, 6, 2, 4, 2, 1]\n"
     ]
    }
   ],
   "source": [
    "\n",
    "\n",
    "g = adj_list\n",
    "parents = [None for i in range(vert_num)]\n",
    "colors = [\"w\" for i in range(vert_num)]\n",
    "timer = 0\n",
    "tin = [None for i in range(vert_num)]\n",
    "tout = [None for i in range(vert_num)]\n",
    "paths = [0] * vert_num  \n",
    "\n",
    "def dfs(v, p=-1):\n",
    "    global timer\n",
    "    parents[v] = p\n",
    "    colors[v] = \"g\"\n",
    "    timer += 1\n",
    "    tin[v] = timer   \n",
    "    \n",
    "    for u in g[v]:\n",
    "        if colors[u] == \"g\":\n",
    "            print(f\"found cycle {v}->{u}\")\n",
    "            continue\n",
    "        elif colors[u] == \"b\":\n",
    "            continue\n",
    "        elif colors[u] == \"w\":\n",
    "            dfs(u, v)\n",
    "\n",
    "    colors[v] = \"b\"\n",
    "    timer += 1\n",
    "    tout[v] = timer\n",
    "\n",
    "def top_sort():\n",
    "    for v in range(vert_num):\n",
    "        if colors[v] == \"w\":\n",
    "            dfs(v)\n",
    "\n",
    "    vert_list = [i for i in range(vert_num)]\n",
    "    ans = [\n",
    "        x for y, x in sorted(zip(tout, vert_list), key=lambda pair: pair[0], reverse = True)\n",
    "    ]\n",
    "    return ans\n",
    "    \n",
    "ts = top_sort()\n",
    "path = [1] * len(ts)  \n",
    "index_dict = {vertex: idx for idx, vertex in enumerate(ts)}\n",
    "\n",
    "for vertex in reversed(ts[:-1]):  \n",
    "    vertex_index = index_dict[vertex]\n",
    "    adjacent_vertices = adj_list[vertex]\n",
    "    \n",
    "    for adj_vertex in adjacent_vertices:\n",
    "        adj_vertex_index = index_dict[adj_vertex]\n",
    "        path[vertex_index] += path[adj_vertex_index]\n",
    "\n",
    "print(path)    "
   ]
  },
  {
   "cell_type": "code",
   "execution_count": null,
   "id": "c68e200a-a0dd-4a77-8f9e-ecf27dc1413b",
   "metadata": {},
   "outputs": [],
   "source": []
  }
 ],
 "metadata": {
  "kernelspec": {
   "display_name": "Python 3 (ipykernel)",
   "language": "python",
   "name": "python3"
  },
  "language_info": {
   "codemirror_mode": {
    "name": "ipython",
    "version": 3
   },
   "file_extension": ".py",
   "mimetype": "text/x-python",
   "name": "python",
   "nbconvert_exporter": "python",
   "pygments_lexer": "ipython3",
   "version": "3.11.5"
  }
 },
 "nbformat": 4,
 "nbformat_minor": 5
}
