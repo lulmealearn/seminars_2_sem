{
 "cells": [
  {
   "cell_type": "code",
   "execution_count": 21,
   "id": "6802ab0d-ee0e-49f3-bf37-3592db317ec4",
   "metadata": {},
   "outputs": [],
   "source": [
    "edge_list = [\n",
    "    [0, 1], [0, 2], [0, 3],\n",
    "    [1, 2],  [1, 4], \n",
    "    [2, 4],  \n",
    "    [3, 4],\n",
    "    [4, 5], \n",
    "    [5, 3]\n",
    "]\n",
    "vert_num = 6\n",
    "\n",
    "adj_list = [[] for _ in range(vert_num)] \n",
    "for edge in edge_list:\n",
    "    u = edge[0]\n",
    "    v = edge[1]\n",
    "    adj_list[u].append(v)\n"
   ]
  },
  {
   "cell_type": "markdown",
   "id": "009b8fa9-43a2-4a50-bfdb-dc7357295847",
   "metadata": {},
   "source": [
    "## Код для поиска цикла в графе\n"
   ]
  },
  {
   "cell_type": "code",
   "execution_count": 41,
   "id": "f571866d-eafe-405b-9dc1-871259c6bfb7",
   "metadata": {},
   "outputs": [
    {
     "name": "stdout",
     "output_type": "stream",
     "text": [
      "Found cycle: 4->5->3\n"
     ]
    },
    {
     "ename": "KeyboardInterrupt",
     "evalue": "",
     "output_type": "error",
     "traceback": [
      "\u001b[1;31m---------------------------------------------------------------------------\u001b[0m",
      "\u001b[1;31mKeyboardInterrupt\u001b[0m                         Traceback (most recent call last)",
      "Cell \u001b[1;32mIn[41], line 40\u001b[0m\n\u001b[0;32m     37\u001b[0m     timer \u001b[38;5;241m+\u001b[39m\u001b[38;5;241m=\u001b[39m \u001b[38;5;241m1\u001b[39m\n\u001b[0;32m     38\u001b[0m     tout[v] \u001b[38;5;241m=\u001b[39m timer\n\u001b[1;32m---> 40\u001b[0m \u001b[43mdfs\u001b[49m\u001b[43m(\u001b[49m\u001b[38;5;241;43m0\u001b[39;49m\u001b[43m)\u001b[49m\n",
      "Cell \u001b[1;32mIn[41], line 21\u001b[0m, in \u001b[0;36mdfs\u001b[1;34m(v, p)\u001b[0m\n\u001b[0;32m     19\u001b[0m \u001b[38;5;28;01mif\u001b[39;00m colors[u] \u001b[38;5;241m==\u001b[39m \u001b[38;5;124m\"\u001b[39m\u001b[38;5;124mg\u001b[39m\u001b[38;5;124m\"\u001b[39m \u001b[38;5;129;01mand\u001b[39;00m u \u001b[38;5;241m!=\u001b[39m p:\n\u001b[0;32m     20\u001b[0m     cur \u001b[38;5;241m=\u001b[39m v\n\u001b[1;32m---> 21\u001b[0m     \u001b[38;5;28;01mwhile\u001b[39;00m \u001b[43mcur\u001b[49m\u001b[43m \u001b[49m\u001b[38;5;241;43m!=\u001b[39;49m\u001b[43m \u001b[49m\u001b[43mu\u001b[49m:\n\u001b[0;32m     22\u001b[0m         cycle\u001b[38;5;241m.\u001b[39mappend(cur)\n\u001b[0;32m     23\u001b[0m         cur \u001b[38;5;241m=\u001b[39m parents[cur]\n",
      "\u001b[1;31mKeyboardInterrupt\u001b[0m: "
     ]
    }
   ],
   "source": [
    "g = adj_list\n",
    "\n",
    "parents = [None for _ in range(vert_num)]\n",
    "colors = [\"w\" for _ in range(vert_num)]\n",
    "timer = 0\n",
    "tin = [None for _ in range(vert_num)]\n",
    "tout = [None for _ in range(vert_num)]\n",
    "\n",
    "def dfs(v, p = -1):\n",
    "    global timer\n",
    "    cycle = []\n",
    "    cycle_last = []\n",
    "    parents[v] = p\n",
    "    colors[v] = \"g\"\n",
    "    timer += 1\n",
    "    tin[v] = timer\n",
    "    \n",
    "    for u in g[v]:\n",
    "        if colors[u] == \"g\" and u != p:\n",
    "            cur = v\n",
    "            while cur != u:\n",
    "                cycle.append(cur)\n",
    "                cur = parents[cur]\n",
    "            cycle.append(u)\n",
    "            \n",
    "            cycle_str = '->'.join(map(str, cycle[::-1]))\n",
    "            print(\"Found cycle:\", cycle_str)\n",
    "            return\n",
    "        \n",
    "        elif colors[u] == \"b\":\n",
    "            continue\n",
    "        \n",
    "        elif colors[u] == \"w\":\n",
    "            dfs(u, v)\n",
    "    \n",
    "    colors[v] = \"b\"\n",
    "    timer += 1\n",
    "    tout[v] = timer\n",
    "\n",
    "dfs(0)"
   ]
  },
  {
   "cell_type": "markdown",
   "id": "f5d957a7-8982-4bbc-a7ce-2a050608316d",
   "metadata": {},
   "source": [
    "## Дальше код для поиска путей"
   ]
  },
  {
   "cell_type": "code",
   "execution_count": null,
   "id": "ef0ef4a0-4dd0-4872-9ff4-d7670eff6303",
   "metadata": {},
   "outputs": [],
   "source": [
    "g = adj_list\n",
    "parents = [None for i in range(vert_num)]\n",
    "colors = [\"w\" for i in range(vert_num)]\n",
    "timer = 0\n",
    "tin = [None for i in range(vert_num)]\n",
    "tout = [None for i in range(vert_num)]\n",
    "paths = [0] * vert_num  \n",
    "\n",
    "def dfs(v, p=-1):\n",
    "    global timer\n",
    "    parents[v] = p\n",
    "    colors[v] = \"g\"\n",
    "    timer += 1\n",
    "    tin[v] = timer   \n",
    "    \n",
    "    for u in g[v]:\n",
    "        if colors[u] == \"g\":\n",
    "            print(f\"found cycle {v}->{u}\")\n",
    "            continue\n",
    "        elif colors[u] == \"b\":\n",
    "            continue\n",
    "        elif colors[u] == \"w\":\n",
    "            dfs(u, v)\n",
    "\n",
    "    colors[v] = \"b\"\n",
    "    timer += 1\n",
    "    tout[v] = timer\n",
    "\n",
    "def top_sort():\n",
    "    for v in range(vert_num):\n",
    "        if colors[v] == \"w\":\n",
    "            dfs(v)\n",
    "\n",
    "    vert_list = [i for i in range(vert_num)]\n",
    "    ans = [\n",
    "        x for y, x in sorted(zip(tout, vert_list), key=lambda pair: pair[0], reverse = True)\n",
    "    ]\n",
    "    return ans\n",
    "    \n",
    "ts = top_sort()\n",
    "path = [1] * len(ts)  \n",
    "index_dict = {vertex: idx for idx, vertex in enumerate(ts)}\n",
    "\n",
    "for vertex in reversed(ts[:-1]):  \n",
    "    vertex_index = index_dict[vertex]\n",
    "    adjacent_vertices = adj_list[vertex]\n",
    "    \n",
    "    for adj_vertex in adjacent_vertices:\n",
    "        adj_vertex_index = index_dict[adj_vertex]\n",
    "        path[vertex_index] += path[adj_vertex_index]\n",
    "\n",
    "print(path)    "
   ]
  }
 ],
 "metadata": {
  "kernelspec": {
   "display_name": "Python 3 (ipykernel)",
   "language": "python",
   "name": "python3"
  },
  "language_info": {
   "codemirror_mode": {
    "name": "ipython",
    "version": 3
   },
   "file_extension": ".py",
   "mimetype": "text/x-python",
   "name": "python",
   "nbconvert_exporter": "python",
   "pygments_lexer": "ipython3",
   "version": "3.11.5"
  }
 },
 "nbformat": 4,
 "nbformat_minor": 5
}
