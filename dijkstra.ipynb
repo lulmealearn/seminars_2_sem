{
 "cells": [
  {
   "cell_type": "code",
   "execution_count": 1,
   "id": "f64c7660-2efe-4546-b2bf-e0d8325e824b",
   "metadata": {},
   "outputs": [],
   "source": [
    "import heapq\n",
    " \n",
    "BIG_NUM = 10 ** 6\n",
    "edge_list = [\n",
    "    [0, 1], \n",
    "    [1, 3], [1, 6], \n",
    "    [3, 2], [3, 7], \n",
    "    [4, 2],\n",
    "    [6, 3],\n",
    "    [7, 4], [7, 5]\n",
    "]\n",
    "\n",
    "vert_num = 8\n",
    "weight_list = [5, 12, 3, 7, 1, 2, 4, 10, 3]\n",
    "weight_list = [float(x) for x in weight_list]\n"
   ]
  },
  {
   "cell_type": "code",
   "execution_count": 2,
   "id": "c8d3d7cb-bda1-4c60-bfb4-691d14b8f521",
   "metadata": {},
   "outputs": [],
   "source": [
    "def construct_adj_list(edge_list, vert_num):\n",
    "    adj_list = [[] for _ in range(vert_num)]\n",
    "    for edge in edge_list:\n",
    "        src = edge[0]\n",
    "        dest = edge[1]\n",
    "        adj_list[src].append(dest)\n",
    "    return adj_list\n",
    " \n",
    " \n",
    "adj_list = construct_adj_list(edge_list, vert_num)\n",
    " \n",
    " \n",
    "def construct_adj_matrix(edge_list, weight_list, vert_num):\n",
    "    adj_matrix = [[BIG_NUM for _ in range(vert_num)] for _ in range(vert_num)]\n",
    " \n",
    "    for edge, weight in zip(edge_list, weight_list):\n",
    "        adj_matrix[edge[0]][edge[1]] = weight\n",
    "    return adj_matrix\n",
    " \n",
    " \n",
    "adj_matrix = construct_adj_matrix(edge_list, weight_list, vert_num)\n",
    " "
   ]
  },
  {
   "cell_type": "code",
   "execution_count": 3,
   "id": "b8950627-7d8f-4e17-96b0-cf846250eeec",
   "metadata": {},
   "outputs": [],
   "source": [
    "def dijkstra(adj_list, adj_matrix, src):\n",
    "    vert_num = len(adj_list)\n",
    "    dist = [BIG_NUM for _ in range(vert_num)]\n",
    "    used = [False for _ in range(vert_num)]\n",
    " \n",
    "    dist[src] = 0\n",
    "    pq = [(0, src)] \n",
    " \n",
    "    while pq:\n",
    "        d, u = heapq.heappop(pq)\n",
    "        if used[u]:\n",
    "            continue\n",
    "        used[u] = True\n",
    " \n",
    "        for v in adj_list[u]:\n",
    "            weight = adj_matrix[u][v]\n",
    "            if dist[v] > dist[u] + weight:\n",
    "                dist[v] = dist[u] + weight\n",
    "                heapq.heappush(pq, (dist[v], v))\n",
    " \n",
    "    return dist"
   ]
  },
  {
   "cell_type": "code",
   "execution_count": 5,
   "id": "261844df-e1af-4025-8e73-2404cc096c54",
   "metadata": {},
   "outputs": [
    {
     "data": {
      "text/plain": [
       "[0, 5.0, 19.0, 12.0, 23.0, 16.0, 8.0, 13.0]"
      ]
     },
     "execution_count": 5,
     "metadata": {},
     "output_type": "execute_result"
    }
   ],
   "source": [
    "dijkstra(adj_list, adj_matrix, 0)"
   ]
  },
  {
   "cell_type": "code",
   "execution_count": null,
   "id": "49ed85cd-c2b0-498f-85ea-f48bbdba0127",
   "metadata": {},
   "outputs": [],
   "source": []
  }
 ],
 "metadata": {
  "kernelspec": {
   "display_name": "Python 3 (ipykernel)",
   "language": "python",
   "name": "python3"
  },
  "language_info": {
   "codemirror_mode": {
    "name": "ipython",
    "version": 3
   },
   "file_extension": ".py",
   "mimetype": "text/x-python",
   "name": "python",
   "nbconvert_exporter": "python",
   "pygments_lexer": "ipython3",
   "version": "3.11.5"
  }
 },
 "nbformat": 4,
 "nbformat_minor": 5
}
